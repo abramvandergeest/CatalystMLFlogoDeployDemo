{
 "cells": [
  {
   "cell_type": "markdown",
   "metadata": {},
   "source": [
    "# Cleaning simulated data and building ML model with exportable artifacts using CatalystML and TensorFlow"
   ]
  },
  {
   "cell_type": "markdown",
   "metadata": {},
   "source": [
    "### Importing modules"
   ]
  },
  {
   "cell_type": "code",
   "execution_count": 1,
   "metadata": {},
   "outputs": [],
   "source": [
    "%matplotlib inline\n",
    "\n",
    "import cmlmaker as cml\n",
    "\n",
    "import pandas as pd\n",
    "import numpy as np\n",
    "\n",
    "import tensorflow as tf\n",
    "import sklearn\n",
    "from sklearn.model_selection import train_test_split\n",
    "\n",
    "import matplotlib.pyplot as plt\n",
    "import os\n",
    "import datetime as dt"
   ]
  },
  {
   "cell_type": "markdown",
   "metadata": {},
   "source": [
    "## Preprocessing and creating CML artifact"
   ]
  },
  {
   "cell_type": "markdown",
   "metadata": {},
   "source": [
    "### Reading in data"
   ]
  },
  {
   "cell_type": "markdown",
   "metadata": {},
   "source": [
    "<p>Creating a common timestamp to use to label files throughout.</p>"
   ]
  },
  {
   "cell_type": "code",
   "execution_count": 2,
   "metadata": {},
   "outputs": [],
   "source": [
    "d=dt.datetime.now()\n",
    "dint=int(round(dt.datetime.timestamp(d)))"
   ]
  },
  {
   "cell_type": "markdown",
   "metadata": {},
   "source": [
    "<p>Getting simulated data and inspecting properties.  Notice the catagorical, continous, and integer columns.</p>"
   ]
  },
  {
   "cell_type": "code",
   "execution_count": 3,
   "metadata": {},
   "outputs": [],
   "source": [
    "filename=\"fin_sim_dat.csv\"\n",
    "df=pd.read_csv(filename)"
   ]
  },
  {
   "cell_type": "code",
   "execution_count": 4,
   "metadata": {},
   "outputs": [
    {
     "data": {
      "text/html": [
       "<div>\n",
       "<style scoped>\n",
       "    .dataframe tbody tr th:only-of-type {\n",
       "        vertical-align: middle;\n",
       "    }\n",
       "\n",
       "    .dataframe tbody tr th {\n",
       "        vertical-align: top;\n",
       "    }\n",
       "\n",
       "    .dataframe thead th {\n",
       "        text-align: right;\n",
       "    }\n",
       "</style>\n",
       "<table border=\"1\" class=\"dataframe\">\n",
       "  <thead>\n",
       "    <tr style=\"text-align: right;\">\n",
       "      <th></th>\n",
       "      <th>Age</th>\n",
       "      <th>Amount</th>\n",
       "      <th>bank</th>\n",
       "      <th>cardType</th>\n",
       "      <th>entry_type</th>\n",
       "      <th>gender</th>\n",
       "      <th>transaction</th>\n",
       "      <th>v1</th>\n",
       "      <th>v2</th>\n",
       "      <th>v3</th>\n",
       "      <th>v4</th>\n",
       "      <th>fraud</th>\n",
       "    </tr>\n",
       "  </thead>\n",
       "  <tbody>\n",
       "    <tr>\n",
       "      <th>0</th>\n",
       "      <td>58</td>\n",
       "      <td>20.00</td>\n",
       "      <td>Bank1</td>\n",
       "      <td>Master</td>\n",
       "      <td>chip</td>\n",
       "      <td>m</td>\n",
       "      <td>POS</td>\n",
       "      <td>1.371536</td>\n",
       "      <td>-0.588411</td>\n",
       "      <td>0.035201</td>\n",
       "      <td>-1.012560</td>\n",
       "      <td>0</td>\n",
       "    </tr>\n",
       "    <tr>\n",
       "      <th>1</th>\n",
       "      <td>38</td>\n",
       "      <td>0.77</td>\n",
       "      <td>Bank0</td>\n",
       "      <td>Master_Debit</td>\n",
       "      <td>chip</td>\n",
       "      <td>m</td>\n",
       "      <td>ATM</td>\n",
       "      <td>-1.278029</td>\n",
       "      <td>1.197070</td>\n",
       "      <td>1.017657</td>\n",
       "      <td>-1.650088</td>\n",
       "      <td>0</td>\n",
       "    </tr>\n",
       "    <tr>\n",
       "      <th>2</th>\n",
       "      <td>37</td>\n",
       "      <td>54.95</td>\n",
       "      <td>Bank5</td>\n",
       "      <td>Master_Debit</td>\n",
       "      <td>INTERNET</td>\n",
       "      <td>m</td>\n",
       "      <td>INTERNET</td>\n",
       "      <td>1.893795</td>\n",
       "      <td>-0.656074</td>\n",
       "      <td>-0.313874</td>\n",
       "      <td>0.279933</td>\n",
       "      <td>0</td>\n",
       "    </tr>\n",
       "    <tr>\n",
       "      <th>3</th>\n",
       "      <td>58</td>\n",
       "      <td>47.98</td>\n",
       "      <td>Bank1</td>\n",
       "      <td>Visa</td>\n",
       "      <td>chip</td>\n",
       "      <td>f</td>\n",
       "      <td>POS</td>\n",
       "      <td>2.099674</td>\n",
       "      <td>-0.872007</td>\n",
       "      <td>-0.754920</td>\n",
       "      <td>-0.599392</td>\n",
       "      <td>0</td>\n",
       "    </tr>\n",
       "    <tr>\n",
       "      <th>4</th>\n",
       "      <td>35</td>\n",
       "      <td>3.74</td>\n",
       "      <td>Bank10</td>\n",
       "      <td>Master</td>\n",
       "      <td>chip</td>\n",
       "      <td>f</td>\n",
       "      <td>ATM</td>\n",
       "      <td>0.400764</td>\n",
       "      <td>1.845057</td>\n",
       "      <td>-2.067862</td>\n",
       "      <td>1.757743</td>\n",
       "      <td>0</td>\n",
       "    </tr>\n",
       "  </tbody>\n",
       "</table>\n",
       "</div>"
      ],
      "text/plain": [
       "   Age  Amount    bank      cardType entry_type gender transaction        v1  \\\n",
       "0   58   20.00   Bank1        Master       chip      m         POS  1.371536   \n",
       "1   38    0.77   Bank0  Master_Debit       chip      m         ATM -1.278029   \n",
       "2   37   54.95   Bank5  Master_Debit   INTERNET      m    INTERNET  1.893795   \n",
       "3   58   47.98   Bank1          Visa       chip      f         POS  2.099674   \n",
       "4   35    3.74  Bank10        Master       chip      f         ATM  0.400764   \n",
       "\n",
       "         v2        v3        v4  fraud  \n",
       "0 -0.588411  0.035201 -1.012560      0  \n",
       "1  1.197070  1.017657 -1.650088      0  \n",
       "2 -0.656074 -0.313874  0.279933      0  \n",
       "3 -0.872007 -0.754920 -0.599392      0  \n",
       "4  1.845057 -2.067862  1.757743      0  "
      ]
     },
     "execution_count": 4,
     "metadata": {},
     "output_type": "execute_result"
    }
   ],
   "source": [
    "df.head()"
   ]
  },
  {
   "cell_type": "code",
   "execution_count": 5,
   "metadata": {},
   "outputs": [
    {
     "name": "stdout",
     "output_type": "stream",
     "text": [
      "<class 'pandas.core.frame.DataFrame'>\n",
      "RangeIndex: 10000 entries, 0 to 9999\n",
      "Data columns (total 12 columns):\n",
      "Age            10000 non-null int64\n",
      "Amount         10000 non-null float64\n",
      "bank           10000 non-null object\n",
      "cardType       10000 non-null object\n",
      "entry_type     10000 non-null object\n",
      "gender         10000 non-null object\n",
      "transaction    10000 non-null object\n",
      "v1             10000 non-null float64\n",
      "v2             10000 non-null float64\n",
      "v3             10000 non-null float64\n",
      "v4             10000 non-null float64\n",
      "fraud          10000 non-null int64\n",
      "dtypes: float64(5), int64(2), object(5)\n",
      "memory usage: 937.6+ KB\n"
     ]
    }
   ],
   "source": [
    "df.info()"
   ]
  },
  {
   "cell_type": "code",
   "execution_count": 6,
   "metadata": {},
   "outputs": [
    {
     "data": {
      "text/html": [
       "<div>\n",
       "<style scoped>\n",
       "    .dataframe tbody tr th:only-of-type {\n",
       "        vertical-align: middle;\n",
       "    }\n",
       "\n",
       "    .dataframe tbody tr th {\n",
       "        vertical-align: top;\n",
       "    }\n",
       "\n",
       "    .dataframe thead th {\n",
       "        text-align: right;\n",
       "    }\n",
       "</style>\n",
       "<table border=\"1\" class=\"dataframe\">\n",
       "  <thead>\n",
       "    <tr style=\"text-align: right;\">\n",
       "      <th></th>\n",
       "      <th>Age</th>\n",
       "      <th>Amount</th>\n",
       "      <th>v1</th>\n",
       "      <th>v2</th>\n",
       "      <th>v3</th>\n",
       "      <th>v4</th>\n",
       "      <th>fraud</th>\n",
       "    </tr>\n",
       "  </thead>\n",
       "  <tbody>\n",
       "    <tr>\n",
       "      <th>count</th>\n",
       "      <td>10000.000000</td>\n",
       "      <td>10000.000000</td>\n",
       "      <td>10000.000000</td>\n",
       "      <td>10000.000000</td>\n",
       "      <td>10000.000000</td>\n",
       "      <td>10000.000000</td>\n",
       "      <td>10000.000000</td>\n",
       "    </tr>\n",
       "    <tr>\n",
       "      <th>mean</th>\n",
       "      <td>48.244800</td>\n",
       "      <td>195.033439</td>\n",
       "      <td>-0.480903</td>\n",
       "      <td>0.370074</td>\n",
       "      <td>-0.722753</td>\n",
       "      <td>0.454489</td>\n",
       "      <td>0.100000</td>\n",
       "    </tr>\n",
       "    <tr>\n",
       "      <th>std</th>\n",
       "      <td>17.983476</td>\n",
       "      <td>873.382584</td>\n",
       "      <td>3.251747</td>\n",
       "      <td>2.370641</td>\n",
       "      <td>3.489661</td>\n",
       "      <td>2.142095</td>\n",
       "      <td>0.300015</td>\n",
       "    </tr>\n",
       "    <tr>\n",
       "      <th>min</th>\n",
       "      <td>18.000000</td>\n",
       "      <td>0.000000</td>\n",
       "      <td>-30.552380</td>\n",
       "      <td>-28.097433</td>\n",
       "      <td>-31.103685</td>\n",
       "      <td>-5.560118</td>\n",
       "      <td>0.000000</td>\n",
       "    </tr>\n",
       "    <tr>\n",
       "      <th>25%</th>\n",
       "      <td>33.000000</td>\n",
       "      <td>7.400000</td>\n",
       "      <td>-1.108574</td>\n",
       "      <td>-0.548831</td>\n",
       "      <td>-1.252131</td>\n",
       "      <td>-0.770973</td>\n",
       "      <td>0.000000</td>\n",
       "    </tr>\n",
       "    <tr>\n",
       "      <th>50%</th>\n",
       "      <td>48.000000</td>\n",
       "      <td>23.375000</td>\n",
       "      <td>-0.124252</td>\n",
       "      <td>0.154989</td>\n",
       "      <td>0.004011</td>\n",
       "      <td>0.141740</td>\n",
       "      <td>0.000000</td>\n",
       "    </tr>\n",
       "    <tr>\n",
       "      <th>75%</th>\n",
       "      <td>64.000000</td>\n",
       "      <td>90.965000</td>\n",
       "      <td>1.263215</td>\n",
       "      <td>0.987964</td>\n",
       "      <td>0.915464</td>\n",
       "      <td>1.096716</td>\n",
       "      <td>0.000000</td>\n",
       "    </tr>\n",
       "    <tr>\n",
       "      <th>max</th>\n",
       "      <td>79.000000</td>\n",
       "      <td>18096.800000</td>\n",
       "      <td>2.411499</td>\n",
       "      <td>22.057729</td>\n",
       "      <td>3.971381</td>\n",
       "      <td>12.114672</td>\n",
       "      <td>1.000000</td>\n",
       "    </tr>\n",
       "  </tbody>\n",
       "</table>\n",
       "</div>"
      ],
      "text/plain": [
       "                Age        Amount            v1            v2            v3  \\\n",
       "count  10000.000000  10000.000000  10000.000000  10000.000000  10000.000000   \n",
       "mean      48.244800    195.033439     -0.480903      0.370074     -0.722753   \n",
       "std       17.983476    873.382584      3.251747      2.370641      3.489661   \n",
       "min       18.000000      0.000000    -30.552380    -28.097433    -31.103685   \n",
       "25%       33.000000      7.400000     -1.108574     -0.548831     -1.252131   \n",
       "50%       48.000000     23.375000     -0.124252      0.154989      0.004011   \n",
       "75%       64.000000     90.965000      1.263215      0.987964      0.915464   \n",
       "max       79.000000  18096.800000      2.411499     22.057729      3.971381   \n",
       "\n",
       "                 v4         fraud  \n",
       "count  10000.000000  10000.000000  \n",
       "mean       0.454489      0.100000  \n",
       "std        2.142095      0.300015  \n",
       "min       -5.560118      0.000000  \n",
       "25%       -0.770973      0.000000  \n",
       "50%        0.141740      0.000000  \n",
       "75%        1.096716      0.000000  \n",
       "max       12.114672      1.000000  "
      ]
     },
     "execution_count": 6,
     "metadata": {},
     "output_type": "execute_result"
    }
   ],
   "source": [
    "df.describe()"
   ]
  },
  {
   "cell_type": "markdown",
   "metadata": {},
   "source": [
    "### Initializing CML structure"
   ]
  },
  {
   "cell_type": "markdown",
   "metadata": {},
   "source": [
    "<p>Creating a new instance of the structure object from the CML library, with a Name, Description, and Version.  I then change the date from the default/current date.</p>"
   ]
  },
  {
   "cell_type": "code",
   "execution_count": 7,
   "metadata": {},
   "outputs": [
    {
     "name": "stdout",
     "output_type": "stream",
     "text": [
      "{\n",
      "    \"name\": \"FinancialStructure\",\n",
      "    \"description\": \"Cleaning some financial data\",\n",
      "    \"version\": \"1.0.1\",\n",
      "    \"createdDate\": \"20200101\",\n",
      "    \"input\": [],\n",
      "    \"structure\": [],\n",
      "    \"output\": null\n",
      "}\n"
     ]
    }
   ],
   "source": [
    "cs=cml.structure(\"FinancialStructure\",\"Cleaning some financial data\",version='1.0.1')\n",
    "cs.updateCreatedDate(dt.datetime(2020,1,1).strftime(\"%Y%m%d\"))\n",
    "print(cs)"
   ]
  },
  {
   "cell_type": "markdown",
   "metadata": {},
   "source": [
    "<p>We then need to define the data type and label for the data that is going to be coming into CML for processing.  In this case a dataframe which is represented as a map datatype in CML.</p>"
   ]
  },
  {
   "cell_type": "code",
   "execution_count": 8,
   "metadata": {},
   "outputs": [
    {
     "name": "stdout",
     "output_type": "stream",
     "text": [
      "{\n",
      "    \"name\": \"FinancialStructure\",\n",
      "    \"description\": \"Cleaning some financial data\",\n",
      "    \"version\": \"1.0.1\",\n",
      "    \"createdDate\": \"20200101\",\n",
      "    \"input\": [\n",
      "        {\n",
      "            \"type\": \"array\",\n",
      "            \"label\": \"inputs\"\n",
      "        }\n",
      "    ],\n",
      "    \"structure\": [],\n",
      "    \"output\": null\n",
      "}\n"
     ]
    }
   ],
   "source": [
    "typ=\"array\";label=\"inputs\"\n",
    "cs=cs.addInput(cml.inobj(typ,label))\n",
    "print(cs)"
   ]
  },
  {
   "cell_type": "markdown",
   "metadata": {},
   "source": [
    "### Cleaning data and adding operations to CML"
   ]
  },
  {
   "cell_type": "markdown",
   "metadata": {},
   "source": [
    "<p>It is worth noting that the inputs for the model training are different from the application.  Therefore we are adding an additional step to level the two processes.  In production the data will be coming in as an array or maps/data frames, while the training data is coming out in bulk from a data store.  Therefore we will use the concatMap operation to join all the possible maps together into one dataframe.</p>"
   ]
  },
  {
   "cell_type": "code",
   "execution_count": null,
   "metadata": {},
   "outputs": [],
   "source": [
    "cs=cs.addOp(\n",
    "    cml.concatMap(\n",
    "        cml.concatMap.inputs(data=\"$inputs\"),\n",
    "        output=\"datatemp\"\n",
    "    )\n",
    ")"
   ]
  },
  {
   "cell_type": "markdown",
   "metadata": {},
   "source": [
    "<p>Next we take  our first step in cleaning the data.  Here we normalize the Age column between 18 and 100 and the Amount column by mean+std.  First we do this using the map command in pandas.  Following that we search for the normalize operation in CML by using the python help command on the cml package and follow it by using help on cml.normalize to get the need inputs.  We then add the two normalize operations to the CML structure.</p>"
   ]
  },
  {
   "cell_type": "code",
   "execution_count": 9,
   "metadata": {},
   "outputs": [
    {
     "name": "stdout",
     "output_type": "stream",
     "text": [
      "1068.416023108812\n"
     ]
    }
   ],
   "source": [
    "agemin=18;agemax=100\n",
    "amountscale=df.describe().loc['mean','Amount']+df.describe().loc['std','Amount']\n",
    "print(amountscale)\n",
    "\n",
    "df.Age=df.Age.map(lambda x: (x-agemin)/(agemax-agemin))\n",
    "df.Amount=df.Amount.map(lambda x: (x/amountscale))"
   ]
  },
  {
   "cell_type": "markdown",
   "metadata": {},
   "source": [
    "<p>Now to add the normalization steps for Age and Amount to the CML structure.  One of the ways to discover operations in CML maker is to use the python help command on the cml object.  Then we can use the help command on cml.normalize to determine what inputs we need to include.</p>"
   ]
  },
  {
   "cell_type": "code",
   "execution_count": 38,
   "metadata": {},
   "outputs": [
    {
     "name": "stdout",
     "output_type": "stream",
     "text": [
      "Help on class ops in module cmlmaker:\n",
      "\n",
      "class ops(builtins.object)\n",
      " |  Methods defined here:\n",
      " |  \n",
      " |  listAllOps()\n",
      " |  \n",
      " |  ----------------------------------------------------------------------\n",
      " |  Data descriptors defined here:\n",
      " |  \n",
      " |  __dict__\n",
      " |      dictionary for instance variables (if defined)\n",
      " |  \n",
      " |  __weakref__\n",
      " |      list of weak references to the object (if defined)\n",
      " |  \n",
      " |  ----------------------------------------------------------------------\n",
      " |  Data and other attributes defined here:\n",
      " |  \n",
      " |  cleaning = <class 'cmlmaker.ops.cleaning'>\n",
      " |      Operations that fall best under data cleaning\n",
      " |  \n",
      " |  image_processing = <class 'cmlmaker.ops.image_processing'>\n",
      " |      Image processing related operations\n",
      " |  \n",
      " |  math = <class 'cmlmaker.ops.math'>\n",
      " |      Math based operations\n",
      " |  \n",
      " |  nlp = <class 'cmlmaker.ops.nlp'>\n",
      " |      Natural Language Processing(NLP) related operations\n",
      " |  \n",
      " |  restructuring = <class 'cmlmaker.ops.restructuring'>\n",
      " |      Operations that restructure data (pivot, join, etc.)\n",
      " |  \n",
      " |  string_processing = <class 'cmlmaker.ops.string_processing'>\n",
      " |      Operations that act on strings\n",
      " |  \n",
      " |  utils = <class 'cmlmaker.ops.utils'>\n",
      " |      Misc. Operations\n",
      "\n"
     ]
    }
   ],
   "source": [
    "help(cml.ops)"
   ]
  },
  {
   "cell_type": "code",
   "execution_count": 11,
   "metadata": {},
   "outputs": [
    {
     "name": "stdout",
     "output_type": "stream",
     "text": [
      "Help on class normalize in module cmlmaker:\n",
      "\n",
      "class normalize(operation)\n",
      " |  divide all values of array by value (i.e. x/value), if minvalue is given applies (x-minval)/(value-minvalue) where x is the data\n",
      " |  \n",
      " |  Method resolution order:\n",
      " |      normalize\n",
      " |      operation\n",
      " |      builtins.object\n",
      " |  \n",
      " |  Methods defined here:\n",
      " |  \n",
      " |  __init__(self, inputs=None, params=None, output=None)\n",
      " |      Initialize normalize operation and define inputs, parameters, and outputs\n",
      " |  \n",
      " |  ----------------------------------------------------------------------\n",
      " |  Data and other attributes defined here:\n",
      " |  \n",
      " |  inputs = <class 'cmlmaker.normalize.inputs'>\n",
      " |      inputs's possible keys:\n",
      " |              data (required)- data to get mean of\n",
      " |              value (required)- value to normalize with (if starting at 0)\n",
      " |              minval (optional)- min value to start normalize with (if not starting at 0)\n",
      " |  \n",
      " |  ----------------------------------------------------------------------\n",
      " |  Methods inherited from operation:\n",
      " |  \n",
      " |  __repr__(self)\n",
      " |      Return repr(self).\n",
      " |  \n",
      " |  make_map(self)\n",
      " |  \n",
      " |  ----------------------------------------------------------------------\n",
      " |  Data descriptors inherited from operation:\n",
      " |  \n",
      " |  __dict__\n",
      " |      dictionary for instance variables (if defined)\n",
      " |  \n",
      " |  __weakref__\n",
      " |      list of weak references to the object (if defined)\n",
      " |  \n",
      " |  ----------------------------------------------------------------------\n",
      " |  Data and other attributes inherited from operation:\n",
      " |  \n",
      " |  operation = None\n",
      " |  \n",
      " |  params = <class 'cmlmaker.operation.params'>\n",
      "\n"
     ]
    }
   ],
   "source": [
    "help(cml.ops.normalize)"
   ]
  },
  {
   "cell_type": "code",
   "execution_count": 39,
   "metadata": {},
   "outputs": [
    {
     "name": "stdout",
     "output_type": "stream",
     "text": [
      "Help on class normalize in module cmlmaker:\n",
      "\n",
      "class normalize(operation)\n",
      " |  divide all values of array by value (i.e. x/value), if minvalue is given applies (x-minval)/(value-minvalue) where x is the data\n",
      " |  \n",
      " |  Method resolution order:\n",
      " |      normalize\n",
      " |      operation\n",
      " |      builtins.object\n",
      " |  \n",
      " |  Methods defined here:\n",
      " |  \n",
      " |  __init__(self, inputs=None, params=None, output=None)\n",
      " |      Initialize normalize operation and define inputs, parameters, and outputs\n",
      " |  \n",
      " |  ----------------------------------------------------------------------\n",
      " |  Data and other attributes defined here:\n",
      " |  \n",
      " |  inputs = <class 'cmlmaker.normalize.inputs'>\n",
      " |      inputs's possible keys:\n",
      " |              data (required)- data to get mean of\n",
      " |              value (required)- value to normalize with (if starting at 0)\n",
      " |              minval (optional)- min value to start normalize with (if not starting at 0)\n",
      " |  \n",
      " |  ----------------------------------------------------------------------\n",
      " |  Methods inherited from operation:\n",
      " |  \n",
      " |  __repr__(self)\n",
      " |      Return repr(self).\n",
      " |  \n",
      " |  make_map(self)\n",
      " |  \n",
      " |  ----------------------------------------------------------------------\n",
      " |  Data descriptors inherited from operation:\n",
      " |  \n",
      " |  __dict__\n",
      " |      dictionary for instance variables (if defined)\n",
      " |  \n",
      " |  __weakref__\n",
      " |      list of weak references to the object (if defined)\n",
      " |  \n",
      " |  ----------------------------------------------------------------------\n",
      " |  Data and other attributes inherited from operation:\n",
      " |  \n",
      " |  operation = None\n",
      " |  \n",
      " |  params = <class 'cmlmaker.operation.params'>\n",
      "\n"
     ]
    }
   ],
   "source": [
    "help(cml.normalize)"
   ]
  },
  {
   "cell_type": "code",
   "execution_count": 12,
   "metadata": {},
   "outputs": [
    {
     "name": "stdout",
     "output_type": "stream",
     "text": [
      "Help on class concatMap in module cmlmaker:\n",
      "\n",
      "class concatMap(operation)\n",
      " |  takes an array of maps and combines them into one.\n",
      " |  \n",
      " |  Method resolution order:\n",
      " |      concatMap\n",
      " |      operation\n",
      " |      builtins.object\n",
      " |  \n",
      " |  Methods defined here:\n",
      " |  \n",
      " |  __init__(self, inputs=None, params=None, output=None)\n",
      " |      Initialize concatMap operation and define inputs, parameters, and outputs\n",
      " |  \n",
      " |  ----------------------------------------------------------------------\n",
      " |  Data and other attributes defined here:\n",
      " |  \n",
      " |  inputs = <class 'cmlmaker.concatMap.inputs'>\n",
      " |      inputs's possible keys:\n",
      " |              data (required)- array of maps to be combines into one\n",
      " |  \n",
      " |  ----------------------------------------------------------------------\n",
      " |  Methods inherited from operation:\n",
      " |  \n",
      " |  __repr__(self)\n",
      " |      Return repr(self).\n",
      " |  \n",
      " |  make_map(self)\n",
      " |  \n",
      " |  ----------------------------------------------------------------------\n",
      " |  Data descriptors inherited from operation:\n",
      " |  \n",
      " |  __dict__\n",
      " |      dictionary for instance variables (if defined)\n",
      " |  \n",
      " |  __weakref__\n",
      " |      list of weak references to the object (if defined)\n",
      " |  \n",
      " |  ----------------------------------------------------------------------\n",
      " |  Data and other attributes inherited from operation:\n",
      " |  \n",
      " |  operation = None\n",
      " |  \n",
      " |  params = <class 'cmlmaker.operation.params'>\n",
      "\n"
     ]
    }
   ],
   "source": [
    "help( cml.concatMap)"
   ]
  },
  {
   "cell_type": "code",
   "execution_count": 14,
   "metadata": {},
   "outputs": [],
   "source": [
    "cs=cs.addOp(\n",
    "    cml.normalize(\n",
    "        cml.normalize.inputs(data=\"$datatemp['Age']\",value=agemax,minval=agemin),\n",
    "        output=\"datatemp['Age']\"\n",
    "    )\n",
    ")\n",
    "\n",
    "cs=cs.addOp(\n",
    "    cml.normalize(\n",
    "        cml.normalize.inputs(data=\"$datatemp['Amount']\",value=amountscale),\n",
    "        output=\"datatemp['Amount']\"\n",
    "    )\n",
    ")"
   ]
  },
  {
   "cell_type": "markdown",
   "metadata": {},
   "source": [
    "<p>To see the result you can print the cs object to see how we have added the input and the first two operatons.</p>"
   ]
  },
  {
   "cell_type": "code",
   "execution_count": 15,
   "metadata": {},
   "outputs": [
    {
     "name": "stdout",
     "output_type": "stream",
     "text": [
      "{\n",
      "    \"name\": \"FinancialStructure\",\n",
      "    \"description\": \"Cleaning some financial data\",\n",
      "    \"version\": \"1.0.1\",\n",
      "    \"createdDate\": \"20200101\",\n",
      "    \"input\": [\n",
      "        {\n",
      "            \"type\": \"array\",\n",
      "            \"label\": \"inputs\"\n",
      "        }\n",
      "    ],\n",
      "    \"structure\": [\n",
      "        {\n",
      "            \"operation\": \"concatMap\",\n",
      "            \"input\": {\n",
      "                \"data\": \"$inputs\"\n",
      "            },\n",
      "            \"output\": \"datatemp\"\n",
      "        },\n",
      "        {\n",
      "            \"operation\": \"normalize\",\n",
      "            \"input\": {\n",
      "                \"data\": \"$datatemp['Age']\",\n",
      "                \"value\": 100,\n",
      "                \"minval\": 18\n",
      "            },\n",
      "            \"output\": \"datatemp['Age']\"\n",
      "        },\n",
      "        {\n",
      "            \"operation\": \"normalize\",\n",
      "            \"input\": {\n",
      "                \"data\": \"$datatemp['Amount']\",\n",
      "                \"value\": 1068.416023108812\n",
      "            },\n",
      "            \"output\": \"datatemp['Amount']\"\n",
      "        }\n",
      "    ],\n",
      "    \"output\": null\n",
      "}\n"
     ]
    }
   ],
   "source": [
    "print(cs)"
   ]
  },
  {
   "cell_type": "markdown",
   "metadata": {},
   "source": [
    "<p>We apply this to additional data cleaning operations including replaceValue, oneHotEncoding, more normalizations.</p>"
   ]
  },
  {
   "cell_type": "code",
   "execution_count": 16,
   "metadata": {},
   "outputs": [],
   "source": [
    "df.gender=df.gender.map(lambda x: 1 if x==\"f\" else 0)"
   ]
  },
  {
   "cell_type": "code",
   "execution_count": 17,
   "metadata": {},
   "outputs": [],
   "source": [
    "cs=cs.addOp(\n",
    "    cml.replaceValue(\n",
    "        cml.replaceValue.inputs(data=\"$datatemp\",replaceMap={\"f\":1,\"m\":0}),\n",
    "        cml.replaceValue.params(col=[\"gender\"]),       \n",
    "        output='datatemp'\n",
    "    )\n",
    ")"
   ]
  },
  {
   "cell_type": "code",
   "execution_count": 18,
   "metadata": {},
   "outputs": [
    {
     "name": "stdout",
     "output_type": "stream",
     "text": [
      "Index(['Age', 'Amount', 'bank', 'cardType', 'entry_type', 'gender',\n",
      "       'transaction', 'v1', 'v2', 'v3', 'v4', 'fraud', 'Bank1', 'Bank0',\n",
      "       'Bank5', 'Bank10', 'Bank8', 'Bank9', 'Bank4', 'Bank7', 'Bank3', 'Bank2',\n",
      "       'Bank6', 'Bank11', 'Bank12', 'Bank14', 'Bank13', 'Master',\n",
      "       'Master_Debit', 'Visa', 'Visa_Debit', 'AmEx', 'chip', 'INTERNET',\n",
      "       'internet', 'magnetic', 'POS', 'ATM'],\n",
      "      dtype='object')\n"
     ]
    }
   ],
   "source": [
    "cols=[\"bank\",\"cardType\",\"entry_type\",\"transaction\"]\n",
    "\n",
    "for col in cols:\n",
    "    vals=df[col].unique()\n",
    "    for val in vals:\n",
    "        df[val]=0\n",
    "        df.loc[df[col]==val,val]=1\n",
    "\n",
    "cs=cs.addOp(\n",
    "    cml.ops.cleaning.oneHotEncoding(                                                        #operation we are adding\n",
    "        cml.oneHotEncoding.inputs(\"$datatemp\"),                                                   #OHE input object being included in op\n",
    "        cml.oneHotEncoding.params(inputColumns=cols,keepOrig=True), #OHE params object being included in op\n",
    "        output=\"datatemp\"                                                                         #output label for resulting data\n",
    "    )\n",
    ")\n",
    "\n",
    "print(df.columns)"
   ]
  },
  {
   "cell_type": "code",
   "execution_count": 19,
   "metadata": {},
   "outputs": [],
   "source": [
    "cols2normalize=['v1','v2','v3','v4']\n",
    "vmax=5;vmin=-vmax\n",
    "for col in cols2normalize:\n",
    "    df[col]=df[col].map(lambda x: (x-vmin)/(vmax-vmin))\n",
    "\n",
    "for c2n in cols2normalize:\n",
    "    cs=cs.addOp(\n",
    "        cml.ops.math.normalize(                                                        #operation we are adding\n",
    "            cml.normalize.inputs(f\"$datatemp['{c2n}']\",5,-5),                                                   #OHE input object being included in op\n",
    "            output=f\"datatemp['{c2n}']\"                                                                         #output label for resulting data\n",
    "        )\n",
    "    )"
   ]
  },
  {
   "cell_type": "markdown",
   "metadata": {},
   "source": [
    "<p>Now we use pairwise operations to create polynomial combinations of features.</p>"
   ]
  },
  {
   "cell_type": "code",
   "execution_count": 20,
   "metadata": {},
   "outputs": [],
   "source": [
    "df['v3*v4']=df.apply(lambda x: x['v3']*x['v4'],axis=1)\n",
    "df['v3*v4*Visa']=df.apply(lambda x: x['v3*v4']*x['Visa'],axis=1)\n",
    "\n",
    "df['v1*v2']=df.apply(lambda x: x['v1']*x['v2'],axis=1)\n",
    "df['v1*v2*Master']=df.apply(lambda x: x['v1*v2']*x['Master'],axis=1)"
   ]
  },
  {
   "cell_type": "code",
   "execution_count": 21,
   "metadata": {},
   "outputs": [],
   "source": [
    "cs=cs.addOp(\n",
    "    cml.ops.math.multPairWise(\n",
    "        cml.multPairWise.inputs(\n",
    "            matrix0=\"$datatemp['v3']\",\n",
    "            matrix1=\"$datatemp['v4']\"\n",
    "        ),\n",
    "        output=\"datatemp['v3*v4']\"\n",
    "    )\n",
    ")\n",
    "\n",
    "cs=cs.addOp(\n",
    "    cml.ops.math.multPairWise(\n",
    "        cml.multPairWise.inputs(\n",
    "            matrix0=\"$datatemp['v3*v4']\",\n",
    "            matrix1=\"$datatemp['Visa']\"\n",
    "        ),\n",
    "        output=\"datatemp['v3*v4*Visa']\"\n",
    "    )\n",
    ")\n",
    "\n",
    "cs=cs.addOp(\n",
    "    cml.ops.math.multPairWise(\n",
    "        cml.multPairWise.inputs(\n",
    "            matrix0=\"$datatemp['v1']\",\n",
    "            matrix1=\"$datatemp['v2']\"\n",
    "        ),\n",
    "        output=\"datatemp['v1*v2']\"\n",
    "    )\n",
    ")\n",
    "\n",
    "cs=cs.addOp(\n",
    "    cml.ops.math.multPairWise(\n",
    "        cml.multPairWise.inputs(\n",
    "            matrix0=\"$datatemp['v1*v2']\",\n",
    "            matrix1=\"$datatemp['Master']\"\n",
    "        ),\n",
    "        output=\"datatemp['v1*v2*Master']\"\n",
    "    )\n",
    ")"
   ]
  },
  {
   "cell_type": "markdown",
   "metadata": {},
   "source": [
    "<p>So lots of columns where made in both the CML map variable and in the pandas df.  So here we are going to just keep the important columns.</p>"
   ]
  },
  {
   "cell_type": "code",
   "execution_count": 22,
   "metadata": {},
   "outputs": [],
   "source": [
    "cols2keep=[\"ATM\",\"Age\",\"AmEx\",\"Amount\",\"Bank0\",\"Bank1\",\"Bank10\",\"Bank2\",\"Bank3\",\"Bank4\",\"Bank5\",\"Bank6\",\"Bank7\",\"Bank8\",\"Bank9\",\"INTERNET\",\"Master\",\"Master_Debit\",\"POS\",\"Visa\",\"Visa_Debit\",\"chip\",\"gender\",\"magnetic\",\"v1\",\"v2\",\"v3\",\"v4\",\"v1*v2*Master\",\"v3*v4*Visa\"]\n",
    "\n",
    "dfproc=df[cols2keep+['fraud']]\n",
    "cs=cs.addOp(\n",
    "    cml.ops.restructuring.map2table(\n",
    "        cml.map2table.inputs(\n",
    "            \"$datatemp\",\n",
    "            cols2keep\n",
    "        ),\n",
    "        cml.map2table.params(axis=1),\n",
    "        output=\"datatab\"\n",
    "    )\n",
    ")"
   ]
  },
  {
   "cell_type": "markdown",
   "metadata": {},
   "source": [
    "<p>To finish up the CML structure object we just need to define the output.  As with above when we are referring to a variable defined in the CML scope we lead the variable name with a $.</p>"
   ]
  },
  {
   "cell_type": "code",
   "execution_count": 23,
   "metadata": {},
   "outputs": [],
   "source": [
    "cs=cs.addOutput(cml.outobj(\"map\",\"$datatab\"))"
   ]
  },
  {
   "cell_type": "markdown",
   "metadata": {},
   "source": [
    "<p>To display the final JSON we just have to print the final cml object:</p>"
   ]
  },
  {
   "cell_type": "code",
   "execution_count": 24,
   "metadata": {},
   "outputs": [
    {
     "name": "stdout",
     "output_type": "stream",
     "text": [
      "{\n",
      "    \"name\": \"FinancialStructure\",\n",
      "    \"description\": \"Cleaning some financial data\",\n",
      "    \"version\": \"1.0.1\",\n",
      "    \"createdDate\": \"20200101\",\n",
      "    \"input\": [\n",
      "        {\n",
      "            \"type\": \"array\",\n",
      "            \"label\": \"inputs\"\n",
      "        }\n",
      "    ],\n",
      "    \"structure\": [\n",
      "        {\n",
      "            \"operation\": \"concatMap\",\n",
      "            \"input\": {\n",
      "                \"data\": \"$inputs\"\n",
      "            },\n",
      "            \"output\": \"datatemp\"\n",
      "        },\n",
      "        {\n",
      "            \"operation\": \"normalize\",\n",
      "            \"input\": {\n",
      "                \"data\": \"$datatemp['Age']\",\n",
      "                \"value\": 100,\n",
      "                \"minval\": 18\n",
      "            },\n",
      "            \"output\": \"datatemp['Age']\"\n",
      "        },\n",
      "        {\n",
      "            \"operation\": \"normalize\",\n",
      "            \"input\": {\n",
      "                \"data\": \"$datatemp['Amount']\",\n",
      "                \"value\": 1068.416023108812\n",
      "            },\n",
      "            \"output\": \"datatemp['Amount']\"\n",
      "        },\n",
      "        {\n",
      "            \"operation\": \"replaceValue\",\n",
      "            \"input\": {\n",
      "                \"data\": \"$datatemp\",\n",
      "                \"replaceMap\": {\n",
      "                    \"f\": 1,\n",
      "                    \"m\": 0\n",
      "                }\n",
      "            },\n",
      "            \"params\": {\n",
      "                \"col\": [\n",
      "                    \"gender\"\n",
      "                ]\n",
      "            },\n",
      "            \"output\": \"datatemp\"\n",
      "        },\n",
      "        {\n",
      "            \"operation\": \"oneHotEncoding\",\n",
      "            \"input\": {\n",
      "                \"data\": \"$datatemp\"\n",
      "            },\n",
      "            \"params\": {\n",
      "                \"inputColumns\": [\n",
      "                    \"bank\",\n",
      "                    \"cardType\",\n",
      "                    \"entry_type\",\n",
      "                    \"transaction\"\n",
      "                ],\n",
      "                \"keepOrig\": true\n",
      "            },\n",
      "            \"output\": \"datatemp\"\n",
      "        },\n",
      "        {\n",
      "            \"operation\": \"normalize\",\n",
      "            \"input\": {\n",
      "                \"data\": \"$datatemp['v1']\",\n",
      "                \"value\": 5,\n",
      "                \"minval\": -5\n",
      "            },\n",
      "            \"output\": \"datatemp['v1']\"\n",
      "        },\n",
      "        {\n",
      "            \"operation\": \"normalize\",\n",
      "            \"input\": {\n",
      "                \"data\": \"$datatemp['v2']\",\n",
      "                \"value\": 5,\n",
      "                \"minval\": -5\n",
      "            },\n",
      "            \"output\": \"datatemp['v2']\"\n",
      "        },\n",
      "        {\n",
      "            \"operation\": \"normalize\",\n",
      "            \"input\": {\n",
      "                \"data\": \"$datatemp['v3']\",\n",
      "                \"value\": 5,\n",
      "                \"minval\": -5\n",
      "            },\n",
      "            \"output\": \"datatemp['v3']\"\n",
      "        },\n",
      "        {\n",
      "            \"operation\": \"normalize\",\n",
      "            \"input\": {\n",
      "                \"data\": \"$datatemp['v4']\",\n",
      "                \"value\": 5,\n",
      "                \"minval\": -5\n",
      "            },\n",
      "            \"output\": \"datatemp['v4']\"\n",
      "        },\n",
      "        {\n",
      "            \"operation\": \"multPairWise\",\n",
      "            \"input\": {\n",
      "                \"matrix0\": \"$datatemp['v3']\",\n",
      "                \"matrix1\": \"$datatemp['v4']\"\n",
      "            },\n",
      "            \"output\": \"datatemp['v3*v4']\"\n",
      "        },\n",
      "        {\n",
      "            \"operation\": \"multPairWise\",\n",
      "            \"input\": {\n",
      "                \"matrix0\": \"$datatemp['v3*v4']\",\n",
      "                \"matrix1\": \"$datatemp['Visa']\"\n",
      "            },\n",
      "            \"output\": \"datatemp['v3*v4*Visa']\"\n",
      "        },\n",
      "        {\n",
      "            \"operation\": \"multPairWise\",\n",
      "            \"input\": {\n",
      "                \"matrix0\": \"$datatemp['v1']\",\n",
      "                \"matrix1\": \"$datatemp['v2']\"\n",
      "            },\n",
      "            \"output\": \"datatemp['v1*v2']\"\n",
      "        },\n",
      "        {\n",
      "            \"operation\": \"multPairWise\",\n",
      "            \"input\": {\n",
      "                \"matrix0\": \"$datatemp['v1*v2']\",\n",
      "                \"matrix1\": \"$datatemp['Master']\"\n",
      "            },\n",
      "            \"output\": \"datatemp['v1*v2*Master']\"\n",
      "        },\n",
      "        {\n",
      "            \"operation\": \"map2table\",\n",
      "            \"input\": {\n",
      "                \"map\": \"$datatemp\",\n",
      "                \"colOrder\": [\n",
      "                    \"ATM\",\n",
      "                    \"Age\",\n",
      "                    \"AmEx\",\n",
      "                    \"Amount\",\n",
      "                    \"Bank0\",\n",
      "                    \"Bank1\",\n",
      "                    \"Bank10\",\n",
      "                    \"Bank2\",\n",
      "                    \"Bank3\",\n",
      "                    \"Bank4\",\n",
      "                    \"Bank5\",\n",
      "                    \"Bank6\",\n",
      "                    \"Bank7\",\n",
      "                    \"Bank8\",\n",
      "                    \"Bank9\",\n",
      "                    \"INTERNET\",\n",
      "                    \"Master\",\n",
      "                    \"Master_Debit\",\n",
      "                    \"POS\",\n",
      "                    \"Visa\",\n",
      "                    \"Visa_Debit\",\n",
      "                    \"chip\",\n",
      "                    \"gender\",\n",
      "                    \"magnetic\",\n",
      "                    \"v1\",\n",
      "                    \"v2\",\n",
      "                    \"v3\",\n",
      "                    \"v4\",\n",
      "                    \"v1*v2*Master\",\n",
      "                    \"v3*v4*Visa\"\n",
      "                ]\n",
      "            },\n",
      "            \"params\": {\n",
      "                \"axis\": 1\n",
      "            },\n",
      "            \"output\": \"datatab\"\n",
      "        }\n",
      "    ],\n",
      "    \"output\": {\n",
      "        \"type\": \"map\",\n",
      "        \"data\": \"$datatab\"\n",
      "    }\n",
      "}\n"
     ]
    }
   ],
   "source": [
    "print(cs)"
   ]
  },
  {
   "cell_type": "markdown",
   "metadata": {},
   "source": [
    "<p>And the export the JSON we just need to call the writeToFile method of the cml structurte.</p>"
   ]
  },
  {
   "cell_type": "code",
   "execution_count": 25,
   "metadata": {},
   "outputs": [],
   "source": [
    "cs.writeToFile(f'findata_{dint}.json')"
   ]
  },
  {
   "cell_type": "code",
   "execution_count": 26,
   "metadata": {},
   "outputs": [
    {
     "data": {
      "text/plain": [
       "(10000, 31)"
      ]
     },
     "execution_count": 26,
     "metadata": {},
     "output_type": "execute_result"
    }
   ],
   "source": [
    "dfproc.values.shape"
   ]
  },
  {
   "cell_type": "markdown",
   "metadata": {},
   "source": [
    "### Building a Tensorflow  model"
   ]
  },
  {
   "cell_type": "markdown",
   "metadata": {},
   "source": [
    "<p>Now that we have created the CML JSON object for exporting for deployment lets use the cleaned data to create a TF1.X model that we can also export and zip together.  We have created a 15% test set with the remaing being used for training.  The training set then has 15% saved for evaluation during training.  We create a 5 layer dense NN for our model and train for 50 epochs.  This yeilds a precision of ~90% and recall of about 70%.  If the layers are increase to (32,16,4,2,1) * numinps, with the same 2 outputs the precision / recall becomes ~80% /~85% greatly increasing recall at the cost of precision.</p>\n",
    "\n",
    "<p>Here we aren't going to go into further detail in building a model or exploring more features for accuracy.  Links concerning these topics are in the medium article.</p>"
   ]
  },
  {
   "cell_type": "code",
   "execution_count": 27,
   "metadata": {},
   "outputs": [],
   "source": [
    "df=dfproc\n"
   ]
  },
  {
   "cell_type": "code",
   "execution_count": 28,
   "metadata": {},
   "outputs": [
    {
     "data": {
      "text/plain": [
       "30"
      ]
     },
     "execution_count": 28,
     "metadata": {},
     "output_type": "execute_result"
    }
   ],
   "source": [
    "cols=[col for col in df.columns if col not in [\"fraud\"]]\n",
    "len(cols)"
   ]
  },
  {
   "cell_type": "code",
   "execution_count": 29,
   "metadata": {},
   "outputs": [],
   "source": [
    "dftrain,dftest=train_test_split(df,test_size=0.15)"
   ]
  },
  {
   "cell_type": "code",
   "execution_count": 30,
   "metadata": {},
   "outputs": [
    {
     "data": {
      "text/plain": [
       "30"
      ]
     },
     "execution_count": 30,
     "metadata": {},
     "output_type": "execute_result"
    }
   ],
   "source": [
    "numinps= len(cols)\n",
    "numinps"
   ]
  },
  {
   "cell_type": "code",
   "execution_count": 31,
   "metadata": {},
   "outputs": [],
   "source": [
    "dftrain2,dfeval=train_test_split(dftrain,test_size=0.15)"
   ]
  },
  {
   "cell_type": "code",
   "execution_count": 32,
   "metadata": {},
   "outputs": [
    {
     "name": "stderr",
     "output_type": "stream",
     "text": [
      "WARNING: Logging before flag parsing goes to stderr.\n",
      "W0302 12:55:37.750213 140735594709888 deprecation.py:323] From <ipython-input-32-a8296588bcc1>:10: dense (from tensorflow.python.layers.core) is deprecated and will be removed in a future version.\n",
      "Instructions for updating:\n",
      "Use keras.layers.dense instead.\n",
      "W0302 12:55:37.757115 140735594709888 deprecation.py:506] From /anaconda3/lib/python3.6/site-packages/tensorflow/python/ops/init_ops.py:1251: calling VarianceScaling.__init__ (from tensorflow.python.ops.init_ops) with dtype is deprecated and will be removed in a future version.\n",
      "Instructions for updating:\n",
      "Call initializer instance with the dtype argument instead of passing it to the constructor\n",
      "W0302 12:55:38.089705 140735594709888 deprecation.py:323] From <ipython-input-32-a8296588bcc1>:11: dropout (from tensorflow.python.layers.core) is deprecated and will be removed in a future version.\n",
      "Instructions for updating:\n",
      "Use keras.layers.dropout instead.\n"
     ]
    }
   ],
   "source": [
    "#encodedim=28\n",
    "numclasses=2\n",
    "#hiddim=encodedim//2\n",
    "lr=0.001 #learnrate=tf.placeholder(tf.float32, name='learningrate')\n",
    "droprate=0.2 #tf.placeholder(tf.float32, name='droprate')\n",
    "inputs=tf.placeholder(tf.float64, shape=(None,numinps),name=\"inputs\")\n",
    "mode=tf.placeholder(tf.string, name=\"mode\")\n",
    "labels=tf.placeholder(tf.int32,shape=(None),name='labels')\n",
    "\n",
    "dense0 = tf.layers.dense(inputs=inputs, units=numinps*8, activation=tf.nn.relu)\n",
    "dropout0 = tf.layers.dropout(inputs=dense0, rate=droprate, training=mode == tf.estimator.ModeKeys.TRAIN)\n",
    "\n",
    "dense1 = tf.layers.dense(inputs=dropout0, units=numinps*4, activation=tf.nn.relu)\n",
    "dropout1 = tf.layers.dropout(inputs=dense1, rate=droprate, training=mode == tf.estimator.ModeKeys.TRAIN)\n",
    "\n",
    "dense1a = tf.layers.dense(inputs=dropout1, units=numinps*3, activation=tf.nn.relu,name=\"dense_9\")\n",
    "dropout1a = tf.layers.dropout(inputs=dense1a, rate=droprate, training=mode == tf.estimator.ModeKeys.TRAIN)\n",
    "\n",
    "dense2 = tf.layers.dense(inputs=dropout1a, units=numinps*2, activation=tf.nn.relu,name=\"dense_10\")\n",
    "dropout2 = tf.layers.dropout(inputs=dense2, rate=droprate, training=mode == tf.estimator.ModeKeys.TRAIN)\n",
    "\n",
    "dense3 = tf.layers.dense(inputs=dropout2, units=numinps*1, activation=tf.nn.relu)\n",
    "dropout3 = tf.layers.dropout(inputs=dense3, rate=droprate, training=mode == tf.estimator.ModeKeys.TRAIN)\n",
    "\n",
    "dense4 = tf.layers.dense(inputs=dropout3, units=numclasses)#, activation=tf.nn.relu)\n",
    "logits = tf.layers.dropout(inputs=dense4, rate=droprate, training=mode == tf.estimator.ModeKeys.TRAIN)\n",
    "Yprobab=tf.nn.softmax(logits,name='Yprobab')\n",
    "Yout = tf.argmax(Yprobab,1,name=\"Yout\")\n",
    "\n",
    "#loss=tf.losses.mean_squared_error(labels=inputs,predictions=dropout4)\n",
    "#loss = tf.nn.softmax_cross_entropy_with_logits_v2(logits=logits,labels=labels)\n",
    "loss = tf.nn.sparse_softmax_cross_entropy_with_logits(logits=logits,labels=labels)\n",
    "batchloss=tf.reduce_mean(loss)\n",
    "trainstep=tf.train.AdamOptimizer(learning_rate=lr).minimize(loss)\n"
   ]
  },
  {
   "cell_type": "code",
   "execution_count": 33,
   "metadata": {},
   "outputs": [
    {
     "name": "stdout",
     "output_type": "stream",
     "text": [
      "train:  0 50 0.1507332778305331\n",
      "train:  1 50 0.1364558740664814\n",
      "train:  2 50 0.09133186494128534\n",
      "train:  3 50 0.0815679468302182\n",
      "train:  4 50 0.07736924645792835\n",
      "train:  5 50 0.07700036518999094\n",
      "train:  6 50 0.06920933382799474\n",
      "train:  7 50 0.0596357600155721\n",
      "train:  8 50 0.04853340826111051\n",
      "train:  9 50 0.043059599488720395\n",
      "train:  10 50 0.035156107716507644\n",
      "train:  11 50 0.038983543087572375\n",
      "train:  12 50 0.027604965377797906\n",
      "train:  13 50 0.03314504518826392\n",
      "train:  14 50 0.024926639813357573\n",
      "train:  15 50 0.044613330323084614\n",
      "train:  16 50 0.12752801006129721\n",
      "train:  17 50 0.05942309433000601\n",
      "train:  18 50 0.024666173959386386\n",
      "train:  19 50 0.01619940335827466\n",
      "train:  20 50 0.027750996897906013\n",
      "train:  21 50 0.021290275482503312\n",
      "train:  22 50 0.015911883827982594\n",
      "train:  23 50 0.014853454996201765\n",
      "train:  24 50 0.09509376156612032\n",
      "train:  25 50 0.02945596582974164\n",
      "train:  26 50 0.03816609124551412\n",
      "train:  27 50 0.0424339510632393\n",
      "train:  28 50 0.07059948067293587\n",
      "train:  29 50 0.018707004583068097\n",
      "train:  30 50 0.06269755709784683\n",
      "train:  31 50 0.03180945109406057\n",
      "train:  32 50 0.03883312744995633\n",
      "train:  33 50 0.040774830914545264\n",
      "train:  34 50 0.03988909788867913\n",
      "train:  35 50 0.015905631438828075\n",
      "train:  36 50 0.008960819516756318\n",
      "train:  37 50 0.009583658762233674\n",
      "train:  38 50 0.011240283572081823\n",
      "train:  39 50 0.01326543813350845\n",
      "train:  40 50 0.008387107034464693\n",
      "train:  41 50 0.017851409660195015\n",
      "train:  42 50 0.009021415926382894\n",
      "train:  43 50 0.011690874876750494\n",
      "train:  44 50 0.004680711158431043\n",
      "train:  45 50 0.0060791197163547386\n",
      "train:  46 50 0.015642400561237103\n",
      "train:  47 50 0.015503787376478067\n",
      "train:  48 50 0.011111100093014631\n"
     ]
    },
    {
     "name": "stderr",
     "output_type": "stream",
     "text": [
      "W0302 12:56:04.210981 140735594709888 deprecation.py:323] From <ipython-input-33-f208be853db0>:47: build_tensor_info (from tensorflow.python.saved_model.utils_impl) is deprecated and will be removed in a future version.\n",
      "Instructions for updating:\n",
      "This function will only be available through the v1 compatibility library as tf.compat.v1.saved_model.utils.build_tensor_info or tf.compat.v1.saved_model.build_tensor_info.\n"
     ]
    },
    {
     "name": "stdout",
     "output_type": "stream",
     "text": [
      "train:  49 50 0.020340666584497673\n",
      "evalu:  49 71 0.281221836770226\n",
      "Running Test data...\n",
      "<class 'numpy.ndarray'>\n"
     ]
    }
   ],
   "source": [
    "init = tf.global_variables_initializer()\n",
    "batchsize=100\n",
    "#xbatch=dftrain2.loc[:,cols].head(10).values\n",
    "evalbatch=dfeval[cols]\n",
    "evallabels=dfeval[\"fraud\"]\n",
    "numepochs=50\n",
    "#d=dt.datetime.now() (moved above to keep timestamp consistent)\n",
    "#dint=int(round(dt.datetime.timestamp(d)))\n",
    "savedir=f\"./m_{dint}\"\n",
    "#savedir=f\"./b_{dint}\"\n",
    "\n",
    "treerr=[]\n",
    "everr=[]\n",
    "\n",
    "report_it=50\n",
    "eval_it=report_it*5\n",
    "\n",
    "with tf.Session() as sess:\n",
    "    \n",
    "    sess.run(init)\n",
    "    for epoch in range(numepochs):\n",
    "        for i in range(dftrain2.shape[0]//batchsize):\n",
    "            xbatch=dftrain2.iloc[i*batchsize:(i+1)*batchsize][cols].values\n",
    "            lab=dftrain2.iloc[i*batchsize:(i+1)*batchsize]['fraud']\n",
    "            _,ltr=sess.run([trainstep,batchloss],feed_dict={inputs:xbatch,labels:lab})#,learnrate:0.001,droprate:0.2,mode:tf.estimator.ModeKeys.TRAIN})\n",
    "            if i%(eval_it//5)==0:\n",
    "                l=sess.run([batchloss],feed_dict={inputs:evalbatch,labels:evallabels})#,learnrate:0.001,droprate:0.2,mode:tf.estimator.ModeKeys.EVAL})\n",
    "                treerr.append(ltr)\n",
    "                everr.append(l)\n",
    "            \n",
    "            if i%report_it==0 and i>0:\n",
    "                print(\"train: \",epoch,i,ltr)\n",
    "            if i%eval_it==0  and i>0:\n",
    "                print(\"evalu: \",epoch,i,l[0])\n",
    "    print(\"evalu: \",epoch,i,l[0])\n",
    "    \n",
    "    print(\"Running Test data...\")\n",
    "    #out=[]\n",
    "    if 1:\n",
    "    #for i in range(dftest.shape[0]):\n",
    "        testbatch=np.array(dftest.iloc[:][cols].values)\n",
    "        testlabels=np.array(dftest.iloc[:]['fraud'].values)\n",
    "        print(type(testbatch))\n",
    "        l,yout=sess.run([batchloss,Yout],feed_dict={inputs:testbatch,labels:testlabels})#,learnrate:0.001,droprate:0.2,mode:tf.estimator.ModeKeys.EVAL})\n",
    "        #out.append()\n",
    "        dfout2=pd.DataFrame(data={\"label\":dftest.iloc[:]['fraud'].values,\"err\":l,\"pred\":yout})\n",
    "    tensor_info_x = tf.saved_model.utils.build_tensor_info(inputs)\n",
    "    tensor_info_y = tf.saved_model.utils.build_tensor_info(Yout)\n",
    "    prediction_signature = (\n",
    "      tf.saved_model.signature_def_utils.build_signature_def(\n",
    "      inputs={'inputs': tensor_info_x},\n",
    "      outputs={'Yout': tensor_info_y},\n",
    "      method_name=tf.saved_model.signature_constants.PREDICT_METHOD_NAME\n",
    "      )  )\n",
    "    \n",
    "    builder = tf.saved_model.builder.SavedModelBuilder(savedir)\n",
    "    builder.add_meta_graph_and_variables(\n",
    "      sess, [tf.saved_model.tag_constants.SERVING],\n",
    "      signature_def_map={\n",
    "          tf.saved_model.signature_constants.DEFAULT_SERVING_SIGNATURE_DEF_KEY:\n",
    "              prediction_signature \n",
    "      },\n",
    "    )\n",
    "    builder.save()\n",
    "\n",
    "    \n",
    "    tf.train.write_graph(sess.graph, 'model/text', f'/Users/avanderg@tibco.com/working/CatalystMLFlogoDeployDemo/train_{dint}.pbtxt')"
   ]
  },
  {
   "cell_type": "code",
   "execution_count": 34,
   "metadata": {},
   "outputs": [
    {
     "data": {
      "image/png": "[encoded data removed]",
      "text/plain": [
       "<Figure size 432x288 with 1 Axes>"
      ]
     },
     "metadata": {
      "needs_background": "light"
     },
     "output_type": "display_data"
    }
   ],
   "source": [
    "plt.plot(treerr)\n",
    "plt.plot(everr)\n",
    "plt.show()\n"
   ]
  },
  {
   "cell_type": "code",
   "execution_count": 35,
   "metadata": {},
   "outputs": [
    {
     "name": "stdout",
     "output_type": "stream",
     "text": [
      "DNNClassifier prec 0.800, recall 0.851, fpr 0.200\n"
     ]
    }
   ],
   "source": [
    "def prec_recall(df):\n",
    "    '''Assumes columns of pred and label'''\n",
    "    tp=df[(df['label']==1)&(df['pred']==1)].shape[0]#number of true positives\n",
    "    recall = tp/df['label'].sum()                   #recall\n",
    "    prec =   tp/df['pred'].sum()                    #precision\n",
    "    fp=df[(df['label']!=1)&(df['pred']==1)].shape[0]#number of false positives\n",
    "    fpr=fp/df['pred'].sum()                         #False positive rate\n",
    "    return prec,recall,fpr\n",
    "\n",
    "prec2,recall2,fpr2=prec_recall(dfout2)\n",
    "print(\"DNNClassifier prec {:5.3f}, recall {:5.3f}, fpr {:5.3f}\".format(prec2,recall2,fpr2))\n"
   ]
  },
  {
   "cell_type": "markdown",
   "metadata": {},
   "source": [
    "<p>Zipping up the model files into a single Archive, that can be directly loaded into Flogo.</p>"
   ]
  },
  {
   "cell_type": "code",
   "execution_count": 36,
   "metadata": {},
   "outputs": [
    {
     "name": "stdout",
     "output_type": "stream",
     "text": [
      "adding: saved_model.pb (deflated 88%)\n",
      "adding: variables/ (stored 0%)\n",
      "adding: variables/variables.data-00000-of-00001 (deflated 4%)\n",
      "adding: variables/variables.index (deflated 43%)\n"
     ]
    }
   ],
   "source": [
    "s=f\"cd {savedir}; zip -r Archive_{dint}.zip sav* var*; mv Arch* ../.; cd ..\"\n",
    "os.system(s)\n",
    "stream = os.popen(s)\n",
    "output = stream.read()\n",
    "outlines=output.strip().rsplit(\"\\n\")\n",
    "for line in outlines:\n",
    "    print(line.strip())"
   ]
  },
  {
   "cell_type": "code",
   "execution_count": null,
   "metadata": {},
   "outputs": [],
   "source": []
  }
 ],
 "metadata": {
  "kernelspec": {
   "display_name": "Python 3",
   "language": "python",
   "name": "python3"
  },
  "language_info": {
   "codemirror_mode": {
    "name": "ipython",
    "version": 3
   },
   "file_extension": ".py",
   "mimetype": "text/x-python",
   "name": "python",
   "nbconvert_exporter": "python",
   "pygments_lexer": "ipython3",
   "version": "3.7.6"
  }
 },
 "nbformat": 4,
 "nbformat_minor": 2
}
